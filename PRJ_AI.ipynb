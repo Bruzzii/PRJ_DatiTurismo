{
  "cells": [
    {
      "cell_type": "code",
      "execution_count": null,
      "metadata": {},
      "outputs": [],
      "source": [
        "import pandas as pd\n",
        "from pandas import DataFrame\n",
        "import numpy as np\n",
        "import matplotlib.pyplot as plt\n",
        "from typing import List, Tuple"
      ]
    },
    {
      "cell_type": "code",
      "execution_count": null,
      "metadata": {},
      "outputs": [],
      "source": [
        "class Estrattore:\n",
        "  def __init__(self, data: DataFrame, categoria: str):\n",
        "    self.categoria = categoria\n",
        "    self.data = data.dropna()\n",
        "\n",
        "  def get_categoria(self):\n",
        "     return self.categoria\n",
        "\n",
        "  def get_nomi_regioni(self):\n",
        "    return self.data[\"Regione\"].unique()\n",
        "\n",
        "  def get_anni(self):\n",
        "     return self.data[\"Anno\"].unique()\n",
        "\n",
        "  def get_valori(self, regione: str, anno: int) -> Tuple[int, int]:\n",
        "        df_filtered = self.data[(self.data['Regione'] == regione) & (self.data['Anno'] == anno)]\n",
        "        if not df_filtered.empty:\n",
        "            numero_clienti = df_filtered['Arrivi'].values[0]\n",
        "            numero_notti = df_filtered['Presenze'].values[0]\n",
        "            return numero_clienti, numero_notti\n",
        "        return 0, 0\n",
        "\n",
        "  # Funzioni per creare il grafico\n",
        "  def crea_grafico_linea(self, regioni: str | list[str]):\n",
        "    if type(regioni) == str:\n",
        "        regioni = [regioni]\n",
        "\n",
        "    plt.figure(figsize=(10, 5))\n",
        "    anni = self.get_anni()\n",
        "\n",
        "    for regione in regioni:\n",
        "      arrivi = [self.get_valori(regione, anno)[0] for anno in anni]\n",
        "      presenze = [self.get_valori(regione, anno)[1] for anno in anni]\n",
        "      plt.plot(anni, arrivi, marker='o', label='Arrivi ' + regione)\n",
        "      plt.plot(anni, presenze, marker='o', label='Presenze ' + regione)\n",
        "\n",
        "    plt.title(f'{self.get_categoria()} in {\", \".join(regioni)}')\n",
        "    plt.xlabel('Anno')\n",
        "    plt.ylabel('Numero')\n",
        "    plt.legend()\n",
        "    plt.grid(True)\n",
        "    plt.show()\n",
        "\n",
        "  def crea_grafico_torta(self, anno: int, regioni: List[str], tipo: str):\n",
        "    if tipo == \"Arrivi\":\n",
        "        valori = [self.get_valori(regione, anno)[0] for regione in regioni]\n",
        "    elif tipo == \"Presenze\":\n",
        "        valori =  [self.get_valori(regione, anno)[1] for regione in regioni]\n",
        "\n",
        "    plt.figure(figsize=(10, 7))\n",
        "    plt.pie(valori, labels=regioni, autopct='%1.1f%%', startangle=140)\n",
        "    plt.title(f'{tipo} nel {anno} per le regioni {\", \".join(regioni)}')\n",
        "    plt.axis('equal')\n",
        "    plt.show()"
      ]
    },
    {
      "cell_type": "code",
      "execution_count": null,
      "metadata": {},
      "outputs": [],
      "source": [
        "# URL dei csv\n",
        "URL_DATA = [\n",
        "    \"https://raw.githubusercontent.com/FabioGagliardiIts/datasets/main/dati_turismo/Arrivi-negli-agriturismi-in-Italia-per-regione.csv\",\n",
        "    \"https://raw.githubusercontent.com/FabioGagliardiIts/datasets/main/dati_turismo/Arrivi-negli-esercizi-alberghieri-in-Italia-per-regione.csv\",\n",
        "    \"https://raw.githubusercontent.com/FabioGagliardiIts/datasets/main/dati_turismo/Arrivi-nei-campeggi-e-villaggi-turistici-in-italia-per-regione.csv\",\n",
        "    \"https://raw.githubusercontent.com/FabioGagliardiIts/datasets/main/dati_turismo/Presenze-negli-agriturismi-in-Italia-per-regione.csv\",\n",
        "    \"https://raw.githubusercontent.com/FabioGagliardiIts/datasets/main/dati_turismo/Presenze-negli-esercizi-alberghieri-in-Italia-per-regione.csv\",\n",
        "    \"https://raw.githubusercontent.com/FabioGagliardiIts/datasets/main/dati_turismo/Presenze-nei-campeggi-e-villaggi-turistici-in-italia-per-regione.csv\"\n",
        "]"
      ]
    },
    {
      "cell_type": "code",
      "execution_count": null,
      "metadata": {},
      "outputs": [],
      "source": [
        "# Caricamento dei dataset\n",
        "df_arrivi_agriturismi = pd.read_csv(URL_DATA[0], delimiter=';')\n",
        "df_presenze_agriturismi = pd.read_csv(URL_DATA[3], delimiter=';')\n",
        "df_arrivi_alberghi = pd.read_csv(URL_DATA[1], delimiter=';')\n",
        "df_presenze_alberghi = pd.read_csv(URL_DATA[4], delimiter=';')\n",
        "df_arrivi_campeggi = pd.read_csv(URL_DATA[2], delimiter=';')\n",
        "df_presenze_campeggi = pd.read_csv(URL_DATA[5], delimiter=';')\n",
        "\n",
        "# Merge dei dataset per categorie\n",
        "df_agriturismi = pd.merge(df_arrivi_agriturismi, df_presenze_agriturismi, on=['Regione', 'Anno'], how='inner')\n",
        "df_alberghi = pd.merge(df_arrivi_alberghi, df_presenze_alberghi, on=['Regione', 'Anno'], how='inner')\n",
        "df_campeggi = pd.merge(df_arrivi_campeggi, df_presenze_campeggi, on=['Regione', 'Anno'], how='inner')"
      ]
    },
    {
      "cell_type": "code",
      "execution_count": null,
      "metadata": {},
      "outputs": [],
      "source": [
        "# Creazione degli oggetti\n",
        "e_agriturismi = Estrattore(df_agriturismi, \"Agriturismi\")\n",
        "e_campeggi = Estrattore(df_campeggi, \"Campeggi\")\n",
        "e_alberghi = Estrattore(df_alberghi, \"Alberghi\")"
      ]
    },
    {
      "cell_type": "code",
      "execution_count": null,
      "metadata": {},
      "outputs": [],
      "source": [
        "# Esempio di utilizzo\n",
        "print(\"Grafico a Linea\")\n",
        "e_agriturismi.crea_grafico_linea(['Piemonte', 'Liguria', 'Marche', 'Campania'])\n",
        "print(\"Grafico a Torta per Arrivi\")\n",
        "e_agriturismi.crea_grafico_torta(2008, ['Piemonte', 'Liguria', 'Marche', 'Campania'], \"Arrivi\")\n",
        "print(\"Grafico a Torta per Presenze\")\n",
        "e_agriturismi.crea_grafico_torta(2008, ['Piemonte', 'Liguria', 'Marche', 'Campania'], \"Presenze\")"
      ]
    }
  ],
  "metadata": {
    "colab": {
      "provenance": []
    },
    "kernelspec": {
      "display_name": "Python 3",
      "name": "python3"
    },
    "language_info": {
      "codemirror_mode": {
        "name": "ipython",
        "version": 3
      },
      "file_extension": ".py",
      "mimetype": "text/x-python",
      "name": "python",
      "nbconvert_exporter": "python",
      "pygments_lexer": "ipython3",
      "version": "3.12.0"
    }
  },
  "nbformat": 4,
  "nbformat_minor": 0
}
