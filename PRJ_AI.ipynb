{
  "cells": [
    {
      "cell_type": "code",
      "execution_count": 13,
      "metadata": {
        "id": "OVzpZRyiSozY"
      },
      "outputs": [],
      "source": [
        "import pandas as pd\n",
        "from pandas import DataFrame\n",
        "import numpy as np\n",
        "import matplotlib.pyplot as plt\n",
        "from typing import List\n"
      ]
    },
    {
      "cell_type": "code",
      "execution_count": 9,
      "metadata": {
        "colab": {
          "base_uri": "https://localhost:8080/",
          "height": 356
        },
        "id": "ovFGdzCHSqtf",
        "outputId": "6f9e4ea3-0175-4f30-a490-eb39f0c2b166"
      },
      "outputs": [],
      "source": [
        "URL_DATA = [\"https://raw.githubusercontent.com/FabioGagliardiIts/datasets/main/dati_turismo/Arrivi-negli-agriturismi-in-Italia-per-regione.csv\",\n",
        "            \"https://raw.githubusercontent.com/FabioGagliardiIts/datasets/main/dati_turismo/Arrivi-negli-esercizi-alberghieri-in-Italia-per-regione.csv\",\n",
        "            \"https://raw.githubusercontent.com/FabioGagliardiIts/datasets/main/dati_turismo/Arrivi-nei-campeggi-e-villaggi-turistici-in-italia-per-regione.csv\",\n",
        "            \"https://raw.githubusercontent.com/FabioGagliardiIts/datasets/main/dati_turismo/Presenze-negli-agriturismi-in-Italia-per-regione.csv\",\n",
        "            \"https://raw.githubusercontent.com/FabioGagliardiIts/datasets/main/dati_turismo/Presenze-negli-esercizi-alberghieri-in-Italia-per-regione.csv\",\n",
        "            \"https://raw.githubusercontent.com/FabioGagliardiIts/datasets/main/dati_turismo/Presenze-nei-campeggi-e-villaggi-turistici-in-italia-per-regione.csv\"]"
      ]
    },
    {
      "cell_type": "code",
      "execution_count": 8,
      "metadata": {},
      "outputs": [],
      "source": [
        "# Prendiamo i dati degli arrivi e delle presenze\n",
        "df_arrivi_agriturismi = pd.read_csv(URL_DATA[0], sep=';') \n",
        "df_presenze_agriturismi = pd.read_csv(URL_DATA[3], sep=';')\n",
        "\n",
        "df_arrivi_alberghi = pd.read_csv(URL_DATA[1], sep=';')\n",
        "df_presenze_alberghi = pd.read_csv(URL_DATA[4], sep=';')\n",
        "\n",
        "df_arrivi_campeggi = pd.read_csv(URL_DATA[2], sep=';')\n",
        "df_presenze_campeggi = pd.read_csv(URL_DATA[5], sep=';')"
      ]
    },
    {
      "cell_type": "code",
      "execution_count": 22,
      "metadata": {},
      "outputs": [],
      "source": [
        "# Creiamo un unico dataframe per categoria\n",
        "df_agriturismi = pd.merge(df_arrivi_agriturismi, df_presenze_agriturismi, on=['Regione', 'Anno'], how='inner') \n",
        "df_alberghi = pd.merge(df_arrivi_alberghi, df_presenze_alberghi, on=['Regione', 'Anno'], how='inner')\n",
        "df_campeggi = pd.merge(df_arrivi_campeggi, df_presenze_campeggi, on=['Regione', 'Anno'], how='inner')"
      ]
    },
    {
      "cell_type": "code",
      "execution_count": 63,
      "metadata": {
        "id": "KntUxjroRsqU"
      },
      "outputs": [],
      "source": [
        "class Estrattore:\n",
        "  def __init__(self, data: DataFrame):\n",
        "    self.data = data.dropna()\n",
        "\n",
        "  def get_df(self):\n",
        "    return self.data\n",
        "\n",
        "  def get_colonne(self, colonne: List[str]):\n",
        "    return self.data[colonne]\n",
        "  \n",
        "  def get_nomi_regioni(self):\n",
        "    return self.data[\"Regione\"].unique()\n",
        "  \n",
        "  def get_regione_by_nome(self, regioneRic: str):\n",
        "    return self.data[self.data.Regione==regioneRic]\n",
        "  \n",
        "  def get_regione_by_anno(self, annoRic: int):\n",
        "    return self.data[self.data.Anno==annoRic]\n"
      ]
    },
    {
      "cell_type": "code",
      "execution_count": 67,
      "metadata": {
        "id": "q884HN2sZ4We"
      },
      "outputs": [
        {
          "data": {
            "text/plain": [
              "{'Piemonte': {},\n",
              " 'Agriturismi': {2008: (11620, 48099),\n",
              "  2009: (13231, 45174),\n",
              "  2010: (11318, 41449),\n",
              "  2011: (7456, 32483)},\n",
              " 'Campeggi': {2008: (11620, 48099),\n",
              "  2009: (13231, 45174),\n",
              "  2010: (11318, 41449),\n",
              "  2011: (7456, 32483)},\n",
              " 'Alberghi': {2008: (11620, 48099),\n",
              "  2009: (13231, 45174),\n",
              "  2010: (11318, 41449),\n",
              "  2011: (7456, 32483)},\n",
              " \"Valle d'Aosta\": {},\n",
              " 'Lombardia': {},\n",
              " 'Trentino-Alto Adige': {},\n",
              " 'Veneto': {},\n",
              " 'Friuli-Venezia Giulia': {},\n",
              " 'Liguria': {},\n",
              " 'Emilia-Romagna': {},\n",
              " 'Toscana': {},\n",
              " 'Umbria': {},\n",
              " 'Marche': {},\n",
              " 'Lazio': {},\n",
              " 'Abruzzo': {},\n",
              " 'Molise': {},\n",
              " 'Campania': {},\n",
              " 'Puglia': {},\n",
              " 'Basilicata': {},\n",
              " 'Calabria': {},\n",
              " 'Sicilia': {},\n",
              " 'Sardegna': {}}"
            ]
          },
          "metadata": {},
          "output_type": "display_data"
        }
      ],
      "source": [
        "e_agriturismi = Estrattore(df_agriturismi)\n",
        "e_campeggi = Estrattore(df_campeggi)\n",
        "e_alberghi = Estrattore(df_alberghi)\n",
        "\n",
        "list_tipi = {}\n",
        "\n",
        "regioni = e_agriturismi.get_nomi_regioni()\n",
        "anni = [2008, 2009, 2010, 2011]\n",
        "categorie = [\"Agriturismi\", \"Campeggi\", \"Alberghi\"]\n",
        "\n",
        "for regione in regioni:\n",
        "    list_tipi[regione] = {\n",
        "        \n",
        "    }\n",
        "    for categoria in categorie:\n",
        "        list_tipi[categoria] =  {anno: (row['Arrivi'], row['Presenze']) for anno in anni for index, row in e_agriturismi.get_regione_by_anno(anno).iterrows()}\n",
        "\n",
        "\n",
        "display(list_tipi)\n"
      ]
    }
  ],
  "metadata": {
    "colab": {
      "provenance": []
    },
    "kernelspec": {
      "display_name": "Python 3",
      "name": "python3"
    },
    "language_info": {
      "codemirror_mode": {
        "name": "ipython",
        "version": 3
      },
      "file_extension": ".py",
      "mimetype": "text/x-python",
      "name": "python",
      "nbconvert_exporter": "python",
      "pygments_lexer": "ipython3",
      "version": "3.12.0"
    }
  },
  "nbformat": 4,
  "nbformat_minor": 0
}
